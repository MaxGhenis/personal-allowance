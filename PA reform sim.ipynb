{
 "cells": [
  {
   "cell_type": "code",
   "execution_count": 1,
   "id": "02ff810d-d1ae-459e-97fe-f6ff83ec01d6",
   "metadata": {},
   "outputs": [],
   "source": [
    "from openfisca_uk import Microsimulation\n",
    "from openfisca_uk import *\n",
    "from openfisca_core.model_api import Reform\n",
    "from openfisca_uk.entities import Person, BenUnit, Household"
   ]
  },
  {
   "cell_type": "markdown",
   "id": "b1af707e-eefd-4de4-bcc4-907d9c3a1d8b",
   "metadata": {},
   "source": [
    "Creating the reform"
   ]
  },
  {
   "cell_type": "code",
   "execution_count": 2,
   "id": "08a05404-d498-4f6f-b20c-bc890da4b175",
   "metadata": {},
   "outputs": [],
   "source": [
    "sim = Microsimulation()\n",
    "\n",
    "class PA_reform(Reform):\n",
    "    def apply(self):\n",
    "        self.neutralize_variable(\"personal_allowance\")\n",
    "        \n",
    "sim_no_PA = Microsimulation(PA_reform)"
   ]
  },
  {
   "cell_type": "code",
   "execution_count": 3,
   "id": "9d789618-e149-48fa-af18-2c1c0e249280",
   "metadata": {},
   "outputs": [
    {
     "output_type": "execute_result",
     "data": {
      "text/plain": [
       "96107384023.48047"
      ]
     },
     "metadata": {},
     "execution_count": 3
    }
   ],
   "source": [
    "revenue = sim.calc(\"household_net_income\").sum()\n",
    "revenue_diff = revenue - sim_no_PA.calc(\"household_net_income\").sum()\n",
    "revenue_diff"
   ]
  },
  {
   "cell_type": "code",
   "execution_count": 4,
   "id": "83270342-c9ae-4442-a118-8d578aa43fdf",
   "metadata": {},
   "outputs": [
    {
     "output_type": "execute_result",
     "data": {
      "text/plain": [
       "1467.7688599493447"
      ]
     },
     "metadata": {},
     "execution_count": 4
    }
   ],
   "source": [
    "BI_amount = revenue_diff/(sim.calc(\"people\").sum())\n",
    "BI_amount"
   ]
  },
  {
   "cell_type": "code",
   "execution_count": 5,
   "id": "e8260a96-9ee2-4cf4-9664-d00fde622f62",
   "metadata": {},
   "outputs": [],
   "source": [
    "from openfisca_core.model_api import *\n",
    "from openfisca_uk.tools.general import *\n",
    "\n",
    "class BI(Variable):\n",
    "    value_type = float\n",
    "    entity = Person\n",
    "    label = u\"UBI\"\n",
    "    definition_period = YEAR\n",
    "    def formula(person, period, parameters):\n",
    "        return(BI_amount)\n",
    "\n",
    "class gross_income(Variable):\n",
    "    value_type = float\n",
    "    entity = Person\n",
    "    label = u\"Gross income, including benefits\"\n",
    "    definition_period = YEAR\n",
    "\n",
    "    def formula(person, period, parameters):\n",
    "        COMPONENTS = [\n",
    "            \"employment_income\",\n",
    "            \"pension_income\",\n",
    "            \"self_employment_income\",\n",
    "            \"property_income\",\n",
    "            \"savings_interest_income\",\n",
    "            \"dividend_income\",\n",
    "            \"miscellaneous_income\",\n",
    "            \"benefits\",\n",
    "            \"BI\"\n",
    "        ]\n",
    "        return add(person, period, COMPONENTS)   \n",
    "\n",
    "class basic_income(Reform):\n",
    "    def apply(self):\n",
    "        self.add_variable(BI)\n",
    "        self.update_variable(gross_income)\n",
    "        \n",
    "sim_BI = Microsimulation(PA_reform, basic_income)"
   ]
  },
  {
   "cell_type": "markdown",
   "id": "d4453f32-65c5-41bf-8bd5-b378ec7f2551",
   "metadata": {},
   "source": [
    "Overall effect on income & taxes"
   ]
  },
  {
   "cell_type": "code",
   "execution_count": 6,
   "id": "8df4cb7f-5daa-4f21-891f-13a9f16ec307",
   "metadata": {},
   "outputs": [
    {
     "output_type": "execute_result",
     "data": {
      "text/plain": [
       "1954.0020725340225"
      ]
     },
     "metadata": {},
     "execution_count": 6
    }
   ],
   "source": [
    "#Difference in median income tax\n",
    "sim_BI.calc(\"income_tax\").median() - sim.calc(\"income_tax\").median()"
   ]
  },
  {
   "cell_type": "code",
   "execution_count": 7,
   "id": "43720143-3846-43c6-b0c9-c808332a13ce",
   "metadata": {},
   "outputs": [
    {
     "output_type": "execute_result",
     "data": {
      "text/plain": [
       "486.6101750087"
      ]
     },
     "metadata": {},
     "execution_count": 7
    }
   ],
   "source": [
    "#Increase in median household net income\n",
    "sim_BI.calc(\"household_net_income\").median() - sim.calc(\"household_net_income\").median()"
   ]
  },
  {
   "cell_type": "code",
   "execution_count": 8,
   "id": "981b01c1-540e-4f66-96bb-444bdd594ca8",
   "metadata": {},
   "outputs": [
    {
     "output_type": "execute_result",
     "data": {
      "text/plain": [
       "-15.227619815676007"
      ]
     },
     "metadata": {},
     "execution_count": 8
    }
   ],
   "source": [
    "#Decrease in mean household net income\n",
    "sim_BI.calc(\"household_net_income\").mean() - sim.calc(\"household_net_income\").mean()"
   ]
  },
  {
   "cell_type": "markdown",
   "id": "c74dad9a-c2b5-49dc-bbb4-8df48fa0b4c1",
   "metadata": {},
   "source": [
    "Effect on each income group"
   ]
  },
  {
   "cell_type": "code",
   "execution_count": 9,
   "id": "869eb2e0-c6d8-4ba8-842b-0298b6a4c9fb",
   "metadata": {},
   "outputs": [],
   "source": [
    "income_diff = sim_BI.calc(\"household_net_income\", map_to=\"household\") - sim.calc(\"household_net_income\", map_to=\"household\")"
   ]
  },
  {
   "cell_type": "code",
   "execution_count": 10,
   "id": "bed6c8cb-07b3-4e46-83b4-95fdc94e7210",
   "metadata": {},
   "outputs": [],
   "source": [
    "income = sim.calc(\"household_net_income\", map_to=\"household\")"
   ]
  },
  {
   "cell_type": "code",
   "execution_count": 11,
   "id": "53ca21c5-d7ab-4f89-885c-f183bafbeab1",
   "metadata": {
    "tags": []
   },
   "outputs": [],
   "source": [
    "import plotly.express as px\n",
    "import plotly.io as pio\n",
    "pio.renderers.default = \"browser\""
   ]
  },
  {
   "cell_type": "code",
   "execution_count": 12,
   "id": "e1e73064-817f-4df2-8dd3-f0b7196864d9",
   "metadata": {
    "tags": []
   },
   "outputs": [],
   "source": [
    "#Median difference in household net income for each income decile\n",
    "px.bar(income_diff.groupby(income.decile_rank()).median())"
   ]
  },
  {
   "cell_type": "code",
   "execution_count": 13,
   "id": "e9ceda32-8e0e-4fe7-b665-68e2a6e02d82",
   "metadata": {},
   "outputs": [],
   "source": [
    "#Mean difference in household net income for each income decile\n",
    "px.bar(income_diff.groupby(income.decile_rank()).mean())"
   ]
  },
  {
   "cell_type": "markdown",
   "id": "0ef8827d-8ac7-46d0-85ba-197abf632af8",
   "metadata": {},
   "source": [
    "Effect on poverty"
   ]
  },
  {
   "cell_type": "code",
   "execution_count": 14,
   "id": "7ff6a0ef-b7db-4c83-9297-a3e86ce0ca33",
   "metadata": {
    "tags": []
   },
   "outputs": [],
   "source": [
    "#Median difference in household net income for those in deep poverty vs those not in deep poverty\n",
    "isDeepPoor = sim.calc(\"in_deep_poverty_bhc\", map_to =\"household\")\n",
    "px.bar(income_diff.groupby(isDeepPoor).median())"
   ]
  },
  {
   "cell_type": "code",
   "execution_count": 15,
   "id": "4efe5169-e8b9-4600-990c-de67b079514a",
   "metadata": {},
   "outputs": [],
   "source": [
    "#Median difference in household net income for those in poverty vs those not in deep poverty\n",
    "isPoor = sim.calc(\"in_poverty_bhc\", map_to = \"household\")\n",
    "px.bar(income_diff.groupby(isPoor).median())"
   ]
  },
  {
   "cell_type": "code",
   "execution_count": 16,
   "id": "8e6d69f0-d11e-45f1-9d9e-c3b3ecc6c473",
   "metadata": {
    "tags": []
   },
   "outputs": [
    {
     "output_type": "execute_result",
     "data": {
      "text/plain": [
       "-16.67232192046633"
      ]
     },
     "metadata": {},
     "execution_count": 16
    }
   ],
   "source": [
    "#Percentage of poverty reduction\n",
    "poverty_difference = sim_BI.calc(\"in_poverty_bhc\").sum() - sim.calc(\"in_poverty_bhc\").sum()\n",
    "(poverty_difference/sim.calc(\"in_poverty_bhc\").sum()) * 100"
   ]
  },
  {
   "cell_type": "code",
   "execution_count": 17,
   "id": "91e6ae2e-19df-4beb-b55d-5dd2aaf50c63",
   "metadata": {},
   "outputs": [
    {
     "output_type": "execute_result",
     "data": {
      "text/plain": [
       "-33.10014218076008"
      ]
     },
     "metadata": {},
     "execution_count": 17
    }
   ],
   "source": [
    "#Percentage of deep poverty redution \n",
    "deep_poverty_difference = sim_BI.calc(\"in_deep_poverty_bhc\").sum() - sim.calc(\"in_deep_poverty_bhc\").sum()\n",
    "(deep_poverty_difference/sim.calc(\"in_deep_poverty_bhc\").sum()) * 100"
   ]
  },
  {
   "cell_type": "markdown",
   "id": "52d9ac31-d0ec-4267-9f59-2086bd0f86e3",
   "metadata": {},
   "source": [
    "Effect on child poverty"
   ]
  },
  {
   "cell_type": "code",
   "execution_count": 18,
   "id": "ab8dcfc7-320e-4d34-99f8-2e5c0ba1c953",
   "metadata": {},
   "outputs": [
    {
     "output_type": "execute_result",
     "data": {
      "text/plain": [
       "48.8483209064882"
      ]
     },
     "metadata": {},
     "execution_count": 18
    }
   ],
   "source": [
    "#Percentage of child poverty reduction\n",
    "poor_kids_before = sim.calc(\"in_poverty_bhc\", map_to=\"person\")[sim.calc(\"is_child\")].sum()\n",
    "poor_kids_after = sim_BI.calc(\"in_poverty_bhc\", map_to=\"person\")[sim_BI.calc(\"is_child\")].sum()\n",
    "((poor_kids_before - poor_kids_after)/poor_kids_before) * 100"
   ]
  },
  {
   "cell_type": "code",
   "execution_count": 19,
   "id": "055572cb-8af7-4ef6-b651-9e5e24d210d8",
   "metadata": {},
   "outputs": [],
   "source": [
    "person_income_diff = sim_BI.calc(\"net_income\", map_to=\"person\") - sim.calc(\"net_income\", map_to=\"person\")"
   ]
  },
  {
   "cell_type": "code",
   "execution_count": 20,
   "id": "812f17ef-72eb-49fa-b011-1705165fe377",
   "metadata": {},
   "outputs": [],
   "source": [
    "#Mean difference in income by age\n",
    "age = sim.calc(\"age\", map_to =\"person\")\n",
    "px.bar(person_income_diff.groupby(age).mean())"
   ]
  },
  {
   "cell_type": "code",
   "execution_count": 21,
   "id": "589513ec-f118-4afa-9e5d-bc7d49e90e3a",
   "metadata": {},
   "outputs": [],
   "source": [
    "#Mean difference in income by child vs adult\n",
    "is_child = sim.calc(\"is_child\", map_to =\"person\")\n",
    "px.bar(person_income_diff.groupby(is_child).mean())"
   ]
  },
  {
   "cell_type": "code",
   "execution_count": 22,
   "id": "39f0da80-f705-4aa5-ae08-c069627cb305",
   "metadata": {},
   "outputs": [
    {
     "output_type": "execute_result",
     "data": {
      "text/plain": [
       "20.330388824845965"
      ]
     },
     "metadata": {},
     "execution_count": 22
    }
   ],
   "source": [
    "#Percentage of poverty reduction for adults only\n",
    "poor_adults_before = sim.calc(\"in_poverty_bhc\", map_to=\"person\")[sim.calc(\"is_adult\")].sum()\n",
    "poor_adults_after = sim_BI.calc(\"in_poverty_bhc\", map_to=\"person\")[sim_BI.calc(\"is_adult\")].sum()\n",
    "((poor_adults_before - poor_adults_after)/poor_adults_before) * 100"
   ]
  },
  {
   "cell_type": "code",
   "execution_count": 23,
   "id": "c4d98f28-8c54-41b3-9d34-ab916f10ab76",
   "metadata": {},
   "outputs": [],
   "source": [
    "#Mean income difference grouped by family type\n",
    "family = sim.calc(\"family_type\", map_to = \"person\")\n",
    "px.bar(person_income_diff.groupby(family).mean())"
   ]
  },
  {
   "cell_type": "markdown",
   "id": "363b1c5f-1976-4a6e-84ea-20fb04ec082e",
   "metadata": {},
   "source": [
    "Effect on other demographics"
   ]
  },
  {
   "cell_type": "code",
   "execution_count": 24,
   "id": "b5b49484-002f-47ed-8510-a9a83a28bec9",
   "metadata": {},
   "outputs": [],
   "source": [
    "gender = sim.calc(\"gender\")\n",
    "px.bar(person_income_diff.groupby(gender).median())\n",
    "#only 1 col"
   ]
  },
  {
   "cell_type": "markdown",
   "id": "26b3f6e6-938b-4ab5-88b2-5c6625d77ceb",
   "metadata": {},
   "source": []
  }
 ],
 "metadata": {
  "kernelspec": {
   "name": "python377jvsc74a57bd04a68920d8e8856d089b03c157a7384bba62e0986489c1fa381bbe538cda0922c",
   "display_name": "Python 3.7.7 64-bit ('base': conda)"
  },
  "language_info": {
   "codemirror_mode": {
    "name": "ipython",
    "version": 3
   },
   "file_extension": ".py",
   "mimetype": "text/x-python",
   "name": "python",
   "nbconvert_exporter": "python",
   "pygments_lexer": "ipython3",
   "version": "3.7.7"
  }
 },
 "nbformat": 4,
 "nbformat_minor": 5
}