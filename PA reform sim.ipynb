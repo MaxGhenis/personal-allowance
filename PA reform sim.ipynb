{
 "cells": [
  {
   "cell_type": "code",
   "execution_count": 114,
   "id": "02ff810d-d1ae-459e-97fe-f6ff83ec01d6",
   "metadata": {},
   "outputs": [],
   "source": [
    "from openfisca_uk import Microsimulation\n",
    "from openfisca_uk import *\n",
    "from openfisca_core.model_api import Reform\n",
    "from openfisca_uk.entities import Person, BenUnit, Household"
   ]
  },
  {
   "cell_type": "markdown",
   "id": "b1af707e-eefd-4de4-bcc4-907d9c3a1d8b",
   "metadata": {},
   "source": [
    "Creating the reform"
   ]
  },
  {
   "cell_type": "code",
   "execution_count": 116,
   "id": "08a05404-d498-4f6f-b20c-bc890da4b175",
   "metadata": {},
   "outputs": [],
   "source": [
    "sim = Microsimulation()\n",
    "\n",
    "class PA_reform(Reform):\n",
    "    def apply(self):\n",
    "        self.neutralize_variable(\"personal_allowance\")\n",
    "        \n",
    "sim_no_PA = Microsimulation(PA_reform)"
   ]
  },
  {
   "cell_type": "code",
   "execution_count": 6,
   "id": "9d789618-e149-48fa-af18-2c1c0e249280",
   "metadata": {},
   "outputs": [
    {
     "data": {
      "text/plain": [
       "96112649282.50537"
      ]
     },
     "execution_count": 6,
     "metadata": {},
     "output_type": "execute_result"
    }
   ],
   "source": [
    "revenue = sim.calc(\"household_net_income\").sum()\n",
    "revenue_diff = revenue - sim_no_PA.calc(\"household_net_income\").sum()\n",
    "revenue_diff"
   ]
  },
  {
   "cell_type": "code",
   "execution_count": 7,
   "id": "83270342-c9ae-4442-a118-8d578aa43fdf",
   "metadata": {},
   "outputs": [
    {
     "data": {
      "text/plain": [
       "1467.849271910557"
      ]
     },
     "execution_count": 7,
     "metadata": {},
     "output_type": "execute_result"
    }
   ],
   "source": [
    "BI_amount = revenue_diff/(sim.calc(\"people\").sum())\n",
    "BI_amount"
   ]
  },
  {
   "cell_type": "code",
   "execution_count": 8,
   "id": "e8260a96-9ee2-4cf4-9664-d00fde622f62",
   "metadata": {},
   "outputs": [],
   "source": [
    "from openfisca_core.model_api import *\n",
    "from openfisca_uk.tools.general import *\n",
    "\n",
    "class BI(Variable):\n",
    "    value_type = float\n",
    "    entity = Person\n",
    "    label = u\"UBI\"\n",
    "    definition_period = YEAR\n",
    "    def formula(person, period, parameters):\n",
    "        return(BI_amount)\n",
    "\n",
    "class gross_income(Variable):\n",
    "    value_type = float\n",
    "    entity = Person\n",
    "    label = u\"Gross income, including benefits\"\n",
    "    definition_period = YEAR\n",
    "\n",
    "    def formula(person, period, parameters):\n",
    "        COMPONENTS = [\n",
    "            \"employment_income\",\n",
    "            \"pension_income\",\n",
    "            \"self_employment_income\",\n",
    "            \"property_income\",\n",
    "            \"savings_interest_income\",\n",
    "            \"dividend_income\",\n",
    "            \"miscellaneous_income\",\n",
    "            \"benefits\",\n",
    "            \"BI\"\n",
    "        ]\n",
    "        return add(person, period, COMPONENTS)   \n",
    "\n",
    "class basic_income(Reform):\n",
    "    def apply(self):\n",
    "        self.add_variable(BI)\n",
    "        self.update_variable(gross_income)\n",
    "        \n",
    "sim_BI = Microsimulation(PA_reform, basic_income)"
   ]
  },
  {
   "cell_type": "markdown",
   "id": "d4453f32-65c5-41bf-8bd5-b378ec7f2551",
   "metadata": {},
   "source": [
    "Overall effect on income & taxes"
   ]
  },
  {
   "cell_type": "code",
   "execution_count": 98,
   "id": "8df4cb7f-5daa-4f21-891f-13a9f16ec307",
   "metadata": {},
   "outputs": [
    {
     "data": {
      "text/plain": [
       "1954.0020725340225"
      ]
     },
     "execution_count": 98,
     "metadata": {},
     "output_type": "execute_result"
    }
   ],
   "source": [
    "#Difference in median income tax\n",
    "sim_BI.calc(\"income_tax\").median() - sim.calc(\"income_tax\").median()"
   ]
  },
  {
   "cell_type": "code",
   "execution_count": 102,
   "id": "43720143-3846-43c6-b0c9-c808332a13ce",
   "metadata": {},
   "outputs": [
    {
     "data": {
      "text/plain": [
       "486.87771652465017"
      ]
     },
     "execution_count": 102,
     "metadata": {},
     "output_type": "execute_result"
    }
   ],
   "source": [
    "#Increase in median household net income\n",
    "sim_BI.calc(\"household_net_income\").median() - sim.calc(\"household_net_income\").median()"
   ]
  },
  {
   "cell_type": "code",
   "execution_count": 112,
   "id": "981b01c1-540e-4f66-96bb-444bdd594ca8",
   "metadata": {},
   "outputs": [
    {
     "data": {
      "text/plain": [
       "-15.039485976703872"
      ]
     },
     "execution_count": 112,
     "metadata": {},
     "output_type": "execute_result"
    }
   ],
   "source": [
    "#Decrease in mean household net income\n",
    "sim_BI.calc(\"household_net_income\").mean() - sim.calc(\"household_net_income\").mean()"
   ]
  },
  {
   "cell_type": "markdown",
   "id": "c74dad9a-c2b5-49dc-bbb4-8df48fa0b4c1",
   "metadata": {},
   "source": [
    "Effect on each income group"
   ]
  },
  {
   "cell_type": "code",
   "execution_count": 87,
   "id": "869eb2e0-c6d8-4ba8-842b-0298b6a4c9fb",
   "metadata": {},
   "outputs": [],
   "source": [
    "income_diff = sim_BI.calc(\"household_net_income\", map_to=\"household\") - sim.calc(\"household_net_income\", map_to=\"household\")"
   ]
  },
  {
   "cell_type": "code",
   "execution_count": 88,
   "id": "bed6c8cb-07b3-4e46-83b4-95fdc94e7210",
   "metadata": {},
   "outputs": [],
   "source": [
    "income = sim.calc(\"household_net_income\", map_to=\"household\")"
   ]
  },
  {
   "cell_type": "code",
   "execution_count": 12,
   "id": "53ca21c5-d7ab-4f89-885c-f183bafbeab1",
   "metadata": {
    "tags": []
   },
   "outputs": [],
   "source": [
    "import plotly.express as px\n",
    "import plotly.io as pio\n",
    "pio.renderers.default = \"browser\""
   ]
  },
  {
   "cell_type": "code",
   "execution_count": 127,
   "id": "e1e73064-817f-4df2-8dd3-f0b7196864d9",
   "metadata": {
    "tags": []
   },
   "outputs": [],
   "source": [
    "#Median difference in household net income for each income decile\n",
    "px.bar(income_diff.groupby(income.decile_rank()).median())"
   ]
  },
  {
   "cell_type": "code",
   "execution_count": 128,
   "id": "e9ceda32-8e0e-4fe7-b665-68e2a6e02d82",
   "metadata": {},
   "outputs": [],
   "source": [
    "#Mean difference in household net income for each income decile\n",
    "px.bar(income_diff.groupby(income.decile_rank()).mean())"
   ]
  },
  {
   "cell_type": "markdown",
   "id": "0ef8827d-8ac7-46d0-85ba-197abf632af8",
   "metadata": {},
   "source": [
    "Effect on poverty"
   ]
  },
  {
   "cell_type": "code",
   "execution_count": 129,
   "id": "7ff6a0ef-b7db-4c83-9297-a3e86ce0ca33",
   "metadata": {
    "tags": []
   },
   "outputs": [],
   "source": [
    "#Median difference in household net income for those in deep poverty vs those not in deep poverty\n",
    "isDeepPoor = sim.calc(\"in_deep_poverty_bhc\", map_to =\"household\")\n",
    "px.bar(income_diff.groupby(isDeepPoor).median())"
   ]
  },
  {
   "cell_type": "code",
   "execution_count": 130,
   "id": "4efe5169-e8b9-4600-990c-de67b079514a",
   "metadata": {},
   "outputs": [],
   "source": [
    "#Median difference in household net income for those in poverty vs those not in deep poverty\n",
    "isPoor = sim.calc(\"in_poverty_bhc\", map_to = \"household\")\n",
    "px.bar(income_diff.groupby(isPoor).median())"
   ]
  },
  {
   "cell_type": "code",
   "execution_count": 109,
   "id": "8e6d69f0-d11e-45f1-9d9e-c3b3ecc6c473",
   "metadata": {
    "tags": []
   },
   "outputs": [
    {
     "data": {
      "text/plain": [
       "-16.67232192046633"
      ]
     },
     "execution_count": 109,
     "metadata": {},
     "output_type": "execute_result"
    }
   ],
   "source": [
    "#Percentage of poverty reduction\n",
    "poverty_difference = sim_BI.calc(\"in_poverty_bhc\").sum() - sim.calc(\"in_poverty_bhc\").sum()\n",
    "(poverty_difference/sim.calc(\"in_poverty_bhc\").sum()) * 100"
   ]
  },
  {
   "cell_type": "code",
   "execution_count": 131,
   "id": "91e6ae2e-19df-4beb-b55d-5dd2aaf50c63",
   "metadata": {},
   "outputs": [
    {
     "data": {
      "text/plain": [
       "-33.10014218076008"
      ]
     },
     "execution_count": 131,
     "metadata": {},
     "output_type": "execute_result"
    }
   ],
   "source": [
    "#Percentage of deep poverty redution \n",
    "deep_poverty_difference = sim_BI.calc(\"in_deep_poverty_bhc\").sum() - sim.calc(\"in_deep_poverty_bhc\").sum()\n",
    "(deep_poverty_difference/sim.calc(\"in_deep_poverty_bhc\").sum()) * 100"
   ]
  },
  {
   "cell_type": "markdown",
   "id": "52d9ac31-d0ec-4267-9f59-2086bd0f86e3",
   "metadata": {},
   "source": [
    "Effect on child poverty"
   ]
  },
  {
   "cell_type": "code",
   "execution_count": 117,
   "id": "ab8dcfc7-320e-4d34-99f8-2e5c0ba1c953",
   "metadata": {},
   "outputs": [
    {
     "data": {
      "text/plain": [
       "48.8483209064882"
      ]
     },
     "execution_count": 117,
     "metadata": {},
     "output_type": "execute_result"
    }
   ],
   "source": [
    "#Percentage of child poverty reduction\n",
    "poor_kids_before = sim.calc(\"in_poverty_bhc\", map_to=\"person\")[sim.calc(\"is_child\")].sum()\n",
    "poor_kids_after = sim_BI.calc(\"in_poverty_bhc\", map_to=\"person\")[sim_BI.calc(\"is_child\")].sum()\n",
    "((poor_kids_before - poor_kids_after)/poor_kids_before) * 100"
   ]
  },
  {
   "cell_type": "code",
   "execution_count": 66,
   "id": "055572cb-8af7-4ef6-b651-9e5e24d210d8",
   "metadata": {},
   "outputs": [],
   "source": [
    "person_income_diff = sim_BI.calc(\"net_income\", map_to=\"person\") - sim.calc(\"net_income\", map_to=\"person\")"
   ]
  },
  {
   "cell_type": "code",
   "execution_count": 132,
   "id": "812f17ef-72eb-49fa-b011-1705165fe377",
   "metadata": {},
   "outputs": [],
   "source": [
    "#Mean difference in income by age\n",
    "age = sim.calc(\"age\", map_to =\"person\")\n",
    "px.bar(person_income_diff.groupby(age).mean())"
   ]
  },
  {
   "cell_type": "code",
   "execution_count": 135,
   "id": "589513ec-f118-4afa-9e5d-bc7d49e90e3a",
   "metadata": {},
   "outputs": [],
   "source": [
    "#Mean difference in income by child vs adult\n",
    "is_child = sim.calc(\"is_child\", map_to =\"person\")\n",
    "px.bar(person_income_diff.groupby(is_child).mean())"
   ]
  },
  {
   "cell_type": "code",
   "execution_count": 136,
   "id": "39f0da80-f705-4aa5-ae08-c069627cb305",
   "metadata": {},
   "outputs": [
    {
     "data": {
      "text/plain": [
       "20.330388824845965"
      ]
     },
     "execution_count": 136,
     "metadata": {},
     "output_type": "execute_result"
    }
   ],
   "source": [
    "#Percentage of poverty reduction for adults only\n",
    "poor_adults_before = sim.calc(\"in_poverty_bhc\", map_to=\"person\")[sim.calc(\"is_adult\")].sum()\n",
    "poor_adults_after = sim_BI.calc(\"in_poverty_bhc\", map_to=\"person\")[sim_BI.calc(\"is_adult\")].sum()\n",
    "((poor_adults_before - poor_adults_after)/poor_adults_before) * 100"
   ]
  },
  {
   "cell_type": "code",
   "execution_count": 134,
   "id": "c4d98f28-8c54-41b3-9d34-ab916f10ab76",
   "metadata": {},
   "outputs": [],
   "source": [
    "#Mean income difference grouped by family type\n",
    "family = sim.calc(\"family_type\", map_to = \"person\")\n",
    "px.bar(person_income_diff.groupby(family).mean())"
   ]
  },
  {
   "cell_type": "code",
   "execution_count": 138,
   "id": "3c21f949-97d4-4def-a77b-0af814182db4",
   "metadata": {},
   "outputs": [
    {
     "name": "stdout",
     "output_type": "stream",
     "text": [
      "Collecting git+https://github.com/pslmodels/openfisca-uk\n",
      "  Cloning https://github.com/pslmodels/openfisca-uk to /private/var/folders/_5/wqrb1_m178n7b96tp0hs8nkm0000gn/T/pip-req-build-smukbcoy\n",
      "  Running command git clone -q https://github.com/pslmodels/openfisca-uk /private/var/folders/_5/wqrb1_m178n7b96tp0hs8nkm0000gn/T/pip-req-build-smukbcoy\n",
      "Collecting OpenFisca-Core@ git+https://github.com/nikhilwoodruff/openfisca-core\n",
      "  Cloning https://github.com/nikhilwoodruff/openfisca-core to /private/var/folders/_5/wqrb1_m178n7b96tp0hs8nkm0000gn/T/pip-install-ur41h0xv/openfisca-core_a39d69b05c504f39b188fc4929c0dc0d\n",
      "  Running command git clone -q https://github.com/nikhilwoodruff/openfisca-core /private/var/folders/_5/wqrb1_m178n7b96tp0hs8nkm0000gn/T/pip-install-ur41h0xv/openfisca-core_a39d69b05c504f39b188fc4929c0dc0d\n",
      "Collecting frs@ git+https://github.com/nikhilwoodruff/frs\n",
      "  Cloning https://github.com/nikhilwoodruff/frs to /private/var/folders/_5/wqrb1_m178n7b96tp0hs8nkm0000gn/T/pip-install-ur41h0xv/frs_9e1c37facf0e4c3a976edd2db249a2ee\n",
      "  Running command git clone -q https://github.com/nikhilwoodruff/frs /private/var/folders/_5/wqrb1_m178n7b96tp0hs8nkm0000gn/T/pip-install-ur41h0xv/frs_9e1c37facf0e4c3a976edd2db249a2ee\n",
      "Collecting microdf@ git+https://github.com/PSLmodels/microdf\n",
      "  Cloning https://github.com/PSLmodels/microdf to /private/var/folders/_5/wqrb1_m178n7b96tp0hs8nkm0000gn/T/pip-install-ur41h0xv/microdf_323238fea79f48daa8c832057a7e8cba\n",
      "  Running command git clone -q https://github.com/PSLmodels/microdf /private/var/folders/_5/wqrb1_m178n7b96tp0hs8nkm0000gn/T/pip-install-ur41h0xv/microdf_323238fea79f48daa8c832057a7e8cba\n",
      "Requirement already satisfied: pandas==1.1.4 in ./opt/anaconda3/envs/openfisca/lib/python3.7/site-packages (from OpenFisca-UK==0.3.0) (1.1.4)\n",
      "Requirement already satisfied: numpy==1.17.5 in ./opt/anaconda3/envs/openfisca/lib/python3.7/site-packages (from OpenFisca-UK==0.3.0) (1.17.5)\n",
      "Requirement already satisfied: pyyaml==5.3.1 in ./opt/anaconda3/envs/openfisca/lib/python3.7/site-packages (from OpenFisca-UK==0.3.0) (5.3.1)\n",
      "Requirement already satisfied: pytest==5.4.3 in ./opt/anaconda3/envs/openfisca/lib/python3.7/site-packages (from OpenFisca-UK==0.3.0) (5.4.3)\n",
      "Collecting family-resources-survey==1.0.0\n",
      "  Using cached family_resources_survey-1.0.0-py3-none-any.whl (5.4 kB)\n",
      "Requirement already satisfied: survey-personal-incomes==1.0.0 in ./opt/anaconda3/envs/openfisca/lib/python3.7/site-packages (from OpenFisca-UK==0.3.0) (1.0.0)\n",
      "Requirement already satisfied: tqdm==4.59.0 in ./opt/anaconda3/envs/openfisca/lib/python3.7/site-packages (from OpenFisca-UK==0.3.0) (4.59.0)\n",
      "Requirement already satisfied: colorama in ./opt/anaconda3/envs/openfisca/lib/python3.7/site-packages (from frs@ git+https://github.com/nikhilwoodruff/frs->OpenFisca-UK==0.3.0) (0.4.4)\n",
      "Requirement already satisfied: termcolor in ./opt/anaconda3/envs/openfisca/lib/python3.7/site-packages (from frs@ git+https://github.com/nikhilwoodruff/frs->OpenFisca-UK==0.3.0) (1.1.0)\n",
      "Requirement already satisfied: requests in ./opt/anaconda3/envs/openfisca/lib/python3.7/site-packages (from frs@ git+https://github.com/nikhilwoodruff/frs->OpenFisca-UK==0.3.0) (2.25.1)\n",
      "Requirement already satisfied: matplotlib in ./opt/anaconda3/envs/openfisca/lib/python3.7/site-packages (from microdf@ git+https://github.com/PSLmodels/microdf->OpenFisca-UK==0.3.0) (3.4.2)\n",
      "Requirement already satisfied: matplotlib-label-lines in ./opt/anaconda3/envs/openfisca/lib/python3.7/site-packages (from microdf@ git+https://github.com/PSLmodels/microdf->OpenFisca-UK==0.3.0) (0.3.9)\n",
      "Requirement already satisfied: seaborn in ./opt/anaconda3/envs/openfisca/lib/python3.7/site-packages (from microdf@ git+https://github.com/PSLmodels/microdf->OpenFisca-UK==0.3.0) (0.11.1)\n",
      "Requirement already satisfied: dpath<2.0.0,>=1.5.0 in ./opt/anaconda3/envs/openfisca/lib/python3.7/site-packages (from OpenFisca-Core@ git+https://github.com/nikhilwoodruff/openfisca-core->OpenFisca-UK==0.3.0) (1.5.0)\n",
      "Requirement already satisfied: psutil<6.0.0,>=5.4.7 in ./opt/anaconda3/envs/openfisca/lib/python3.7/site-packages (from OpenFisca-Core@ git+https://github.com/nikhilwoodruff/openfisca-core->OpenFisca-UK==0.3.0) (5.8.0)\n",
      "Requirement already satisfied: sortedcontainers==2.2.2 in ./opt/anaconda3/envs/openfisca/lib/python3.7/site-packages (from OpenFisca-Core@ git+https://github.com/nikhilwoodruff/openfisca-core->OpenFisca-UK==0.3.0) (2.2.2)\n",
      "Requirement already satisfied: numexpr<=3.0,>=2.7.0 in ./opt/anaconda3/envs/openfisca/lib/python3.7/site-packages (from OpenFisca-Core@ git+https://github.com/nikhilwoodruff/openfisca-core->OpenFisca-UK==0.3.0) (2.7.3)\n",
      "Requirement already satisfied: xlrd in ./opt/anaconda3/envs/openfisca/lib/python3.7/site-packages (from family-resources-survey==1.0.0->OpenFisca-UK==0.3.0) (2.0.1)\n",
      "Requirement already satisfied: openpyxl in ./opt/anaconda3/envs/openfisca/lib/python3.7/site-packages (from family-resources-survey==1.0.0->OpenFisca-UK==0.3.0) (3.0.7)\n",
      "Requirement already satisfied: pytz>=2017.2 in ./opt/anaconda3/envs/openfisca/lib/python3.7/site-packages (from pandas==1.1.4->OpenFisca-UK==0.3.0) (2021.1)\n",
      "Requirement already satisfied: python-dateutil>=2.7.3 in ./opt/anaconda3/envs/openfisca/lib/python3.7/site-packages (from pandas==1.1.4->OpenFisca-UK==0.3.0) (2.8.1)\n",
      "Requirement already satisfied: py>=1.5.0 in ./opt/anaconda3/envs/openfisca/lib/python3.7/site-packages (from pytest==5.4.3->OpenFisca-UK==0.3.0) (1.10.0)\n",
      "Requirement already satisfied: pluggy<1.0,>=0.12 in ./opt/anaconda3/envs/openfisca/lib/python3.7/site-packages (from pytest==5.4.3->OpenFisca-UK==0.3.0) (0.13.1)\n",
      "Requirement already satisfied: attrs>=17.4.0 in ./opt/anaconda3/envs/openfisca/lib/python3.7/site-packages (from pytest==5.4.3->OpenFisca-UK==0.3.0) (21.2.0)\n",
      "Requirement already satisfied: more-itertools>=4.0.0 in ./opt/anaconda3/envs/openfisca/lib/python3.7/site-packages (from pytest==5.4.3->OpenFisca-UK==0.3.0) (8.7.0)\n",
      "Requirement already satisfied: importlib-metadata>=0.12 in ./opt/anaconda3/envs/openfisca/lib/python3.7/site-packages (from pytest==5.4.3->OpenFisca-UK==0.3.0) (4.0.1)\n",
      "Requirement already satisfied: packaging in ./opt/anaconda3/envs/openfisca/lib/python3.7/site-packages (from pytest==5.4.3->OpenFisca-UK==0.3.0) (20.9)\n",
      "Requirement already satisfied: wcwidth in ./opt/anaconda3/envs/openfisca/lib/python3.7/site-packages (from pytest==5.4.3->OpenFisca-UK==0.3.0) (0.2.5)\n",
      "Requirement already satisfied: zipp>=0.5 in ./opt/anaconda3/envs/openfisca/lib/python3.7/site-packages (from importlib-metadata>=0.12->pytest==5.4.3->OpenFisca-UK==0.3.0) (3.4.1)\n",
      "Requirement already satisfied: typing-extensions>=3.6.4 in ./opt/anaconda3/envs/openfisca/lib/python3.7/site-packages (from importlib-metadata>=0.12->pytest==5.4.3->OpenFisca-UK==0.3.0) (3.10.0.0)\n",
      "Requirement already satisfied: six>=1.5 in ./opt/anaconda3/envs/openfisca/lib/python3.7/site-packages (from python-dateutil>=2.7.3->pandas==1.1.4->OpenFisca-UK==0.3.0) (1.16.0)\n",
      "Requirement already satisfied: pyparsing>=2.2.1 in ./opt/anaconda3/envs/openfisca/lib/python3.7/site-packages (from matplotlib->microdf@ git+https://github.com/PSLmodels/microdf->OpenFisca-UK==0.3.0) (2.4.7)\n",
      "Requirement already satisfied: cycler>=0.10 in ./opt/anaconda3/envs/openfisca/lib/python3.7/site-packages (from matplotlib->microdf@ git+https://github.com/PSLmodels/microdf->OpenFisca-UK==0.3.0) (0.10.0)\n",
      "Requirement already satisfied: kiwisolver>=1.0.1 in ./opt/anaconda3/envs/openfisca/lib/python3.7/site-packages (from matplotlib->microdf@ git+https://github.com/PSLmodels/microdf->OpenFisca-UK==0.3.0) (1.3.1)\n",
      "Requirement already satisfied: pillow>=6.2.0 in ./opt/anaconda3/envs/openfisca/lib/python3.7/site-packages (from matplotlib->microdf@ git+https://github.com/PSLmodels/microdf->OpenFisca-UK==0.3.0) (8.2.0)\n",
      "Requirement already satisfied: et-xmlfile in ./opt/anaconda3/envs/openfisca/lib/python3.7/site-packages (from openpyxl->family-resources-survey==1.0.0->OpenFisca-UK==0.3.0) (1.1.0)\n",
      "Requirement already satisfied: certifi>=2017.4.17 in ./opt/anaconda3/envs/openfisca/lib/python3.7/site-packages (from requests->frs@ git+https://github.com/nikhilwoodruff/frs->OpenFisca-UK==0.3.0) (2020.12.5)\n",
      "Requirement already satisfied: urllib3<1.27,>=1.21.1 in ./opt/anaconda3/envs/openfisca/lib/python3.7/site-packages (from requests->frs@ git+https://github.com/nikhilwoodruff/frs->OpenFisca-UK==0.3.0) (1.26.4)\n",
      "Requirement already satisfied: idna<3,>=2.5 in ./opt/anaconda3/envs/openfisca/lib/python3.7/site-packages (from requests->frs@ git+https://github.com/nikhilwoodruff/frs->OpenFisca-UK==0.3.0) (2.10)\n",
      "Requirement already satisfied: chardet<5,>=3.0.2 in ./opt/anaconda3/envs/openfisca/lib/python3.7/site-packages (from requests->frs@ git+https://github.com/nikhilwoodruff/frs->OpenFisca-UK==0.3.0) (4.0.0)\n",
      "Requirement already satisfied: scipy>=1.0 in ./opt/anaconda3/envs/openfisca/lib/python3.7/site-packages (from seaborn->microdf@ git+https://github.com/PSLmodels/microdf->OpenFisca-UK==0.3.0) (1.6.3)\n",
      "Installing collected packages: family-resources-survey\n",
      "  Attempting uninstall: family-resources-survey\n",
      "    Found existing installation: family-resources-survey 0.0.1\n",
      "    Uninstalling family-resources-survey-0.0.1:\n",
      "      Successfully uninstalled family-resources-survey-0.0.1\n",
      "Successfully installed family-resources-survey-1.0.0\n"
     ]
    }
   ],
   "source": [
    "!pip install git+https://github.com/pslmodels/openfisca-uk"
   ]
  },
  {
   "cell_type": "markdown",
   "id": "363b1c5f-1976-4a6e-84ea-20fb04ec082e",
   "metadata": {},
   "source": [
    "Effect on other demographics"
   ]
  },
  {
   "cell_type": "code",
   "execution_count": 137,
   "id": "b5b49484-002f-47ed-8510-a9a83a28bec9",
   "metadata": {},
   "outputs": [],
   "source": [
    "gender = sim.calc(\"gender\")\n",
    "px.bar(person_income_diff.groupby(gender).median())\n",
    "#only 1 col"
   ]
  },
  {
   "cell_type": "markdown",
   "id": "26b3f6e6-938b-4ab5-88b2-5c6625d77ceb",
   "metadata": {},
   "source": []
  }
 ],
 "metadata": {
  "kernelspec": {
   "display_name": "Python 3",
   "language": "python",
   "name": "python3"
  },
  "language_info": {
   "codemirror_mode": {
    "name": "ipython",
    "version": 3
   },
   "file_extension": ".py",
   "mimetype": "text/x-python",
   "name": "python",
   "nbconvert_exporter": "python",
   "pygments_lexer": "ipython3",
   "version": "3.7.10"
  }
 },
 "nbformat": 4,
 "nbformat_minor": 5
}
